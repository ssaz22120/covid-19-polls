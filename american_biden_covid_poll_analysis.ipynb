{
 "cells": [
  {
   "cell_type": "code",
   "execution_count": 1,
   "id": "170c9d8b-3fab-415a-add6-f08e7f0bf673",
   "metadata": {},
   "outputs": [
    {
     "name": "stdout",
     "output_type": "stream",
     "text": [
      "Requirement already satisfied: pandas in c:\\users\\sarah sazdar\\appdata\\local\\programs\\python\\python39\\lib\\site-packages (1.2.5)"
     ]
    },
    {
     "name": "stderr",
     "output_type": "stream",
     "text": [
      "WARNING: You are using pip version 21.1.1; however, version 21.1.3 is available.\n",
      "You should consider upgrading via the 'c:\\users\\sarah sazdar\\appdata\\local\\programs\\python\\python39\\python.exe -m pip install --upgrade pip' command.\n"
     ]
    },
    {
     "name": "stdout",
     "output_type": "stream",
     "text": [
      "\n",
      "Requirement already satisfied: python-dateutil>=2.7.3 in c:\\users\\sarah sazdar\\appdata\\local\\programs\\python\\python39\\lib\\site-packages (from pandas) (2.8.1)\n",
      "Requirement already satisfied: numpy>=1.16.5 in c:\\users\\sarah sazdar\\appdata\\local\\programs\\python\\python39\\lib\\site-packages (from pandas) (1.21.0)\n",
      "Requirement already satisfied: pytz>=2017.3 in c:\\users\\sarah sazdar\\appdata\\local\\programs\\python\\python39\\lib\\site-packages (from pandas) (2021.1)\n",
      "Requirement already satisfied: six>=1.5 in c:\\users\\sarah sazdar\\appdata\\local\\programs\\python\\python39\\lib\\site-packages (from python-dateutil>=2.7.3->pandas) (1.16.0)\n",
      "Requirement already satisfied: matplotlib in c:\\users\\sarah sazdar\\appdata\\local\\programs\\python\\python39\\lib\\site-packages (3.4.2)\n",
      "Requirement already satisfied: pillow>=6.2.0 in c:\\users\\sarah sazdar\\appdata\\local\\programs\\python\\python39\\lib\\site-packages (from matplotlib) (8.3.1)\n",
      "Requirement already satisfied: cycler>=0.10 in c:\\users\\sarah sazdar\\appdata\\local\\programs\\python\\python39\\lib\\site-packages (from matplotlib) (0.10.0)\n",
      "Requirement already satisfied: python-dateutil>=2.7 in c:\\users\\sarah sazdar\\appdata\\local\\programs\\python\\python39\\lib\\site-packages (from matplotlib) (2.8.1)\n",
      "Requirement already satisfied: kiwisolver>=1.0.1 in c:\\users\\sarah sazdar\\appdata\\local\\programs\\python\\python39\\lib\\site-packages (from matplotlib) (1.3.1)\n",
      "Requirement already satisfied: numpy>=1.16 in c:\\users\\sarah sazdar\\appdata\\local\\programs\\python\\python39\\lib\\site-packages (from matplotlib) (1.21.0)\n",
      "Requirement already satisfied: pyparsing>=2.2.1 in c:\\users\\sarah sazdar\\appdata\\local\\programs\\python\\python39\\lib\\site-packages (from matplotlib) (2.4.7)\n",
      "Requirement already satisfied: six in c:\\users\\sarah sazdar\\appdata\\local\\programs\\python\\python39\\lib\\site-packages (from cycler>=0.10->matplotlib) (1.16.0)\n"
     ]
    },
    {
     "name": "stderr",
     "output_type": "stream",
     "text": [
      "WARNING: You are using pip version 21.1.1; however, version 21.1.3 is available.\n",
      "You should consider upgrading via the 'c:\\users\\sarah sazdar\\appdata\\local\\programs\\python\\python39\\python.exe -m pip install --upgrade pip' command.\n"
     ]
    },
    {
     "name": "stdout",
     "output_type": "stream",
     "text": [
      "Requirement already satisfied: scipy in c:\\users\\sarah sazdar\\appdata\\local\\programs\\python\\python39\\lib\\site-packages (1.7.0)\n",
      "Requirement already satisfied: numpy<1.23.0,>=1.16.5 in c:\\users\\sarah sazdar\\appdata\\local\\programs\\python\\python39\\lib\\site-packages (from scipy) (1.21.0)\n"
     ]
    },
    {
     "name": "stderr",
     "output_type": "stream",
     "text": [
      "WARNING: You are using pip version 21.1.1; however, version 21.1.3 is available.\n",
      "You should consider upgrading via the 'c:\\users\\sarah sazdar\\appdata\\local\\programs\\python\\python39\\python.exe -m pip install --upgrade pip' command.\n"
     ]
    },
    {
     "name": "stdout",
     "output_type": "stream",
     "text": [
      "Requirement already satisfied: seaborn in c:\\users\\sarah sazdar\\appdata\\local\\programs\\python\\python39\\lib\\site-packages (0.11.1)\n",
      "Requirement already satisfied: matplotlib>=2.2 in c:\\users\\sarah sazdar\\appdata\\local\\programs\\python\\python39\\lib\\site-packages (from seaborn) (3.4.2)\n",
      "Requirement already satisfied: numpy>=1.15 in c:\\users\\sarah sazdar\\appdata\\local\\programs\\python\\python39\\lib\\site-packages (from seaborn) (1.21.0)\n",
      "Requirement already satisfied: pandas>=0.23 in c:\\users\\sarah sazdar\\appdata\\local\\programs\\python\\python39\\lib\\site-packages (from seaborn) (1.2.5)\n",
      "Requirement already satisfied: scipy>=1.0 in c:\\users\\sarah sazdar\\appdata\\local\\programs\\python\\python39\\lib\\site-packages (from seaborn) (1.7.0)\n",
      "Requirement already satisfied: cycler>=0.10 in c:\\users\\sarah sazdar\\appdata\\local\\programs\\python\\python39\\lib\\site-packages (from matplotlib>=2.2->seaborn) (0.10.0)\n",
      "Requirement already satisfied: pillow>=6.2.0 in c:\\users\\sarah sazdar\\appdata\\local\\programs\\python\\python39\\lib\\site-packages (from matplotlib>=2.2->seaborn) (8.3.1)\n",
      "Requirement already satisfied: kiwisolver>=1.0.1 in c:\\users\\sarah sazdar\\appdata\\local\\programs\\python\\python39\\lib\\site-packages (from matplotlib>=2.2->seaborn) (1.3.1)\n",
      "Requirement already satisfied: pyparsing>=2.2.1 in c:\\users\\sarah sazdar\\appdata\\local\\programs\\python\\python39\\lib\\site-packages (from matplotlib>=2.2->seaborn) (2.4.7)\n",
      "Requirement already satisfied: python-dateutil>=2.7 in c:\\users\\sarah sazdar\\appdata\\local\\programs\\python\\python39\\lib\\site-packages (from matplotlib>=2.2->seaborn) (2.8.1)\n",
      "Requirement already satisfied: six in c:\\users\\sarah sazdar\\appdata\\local\\programs\\python\\python39\\lib\\site-packages (from cycler>=0.10->matplotlib>=2.2->seaborn) (1.16.0)\n",
      "Requirement already satisfied: pytz>=2017.3 in c:\\users\\sarah sazdar\\appdata\\local\\programs\\python\\python39\\lib\\site-packages (from pandas>=0.23->seaborn) (2021.1)\n"
     ]
    },
    {
     "name": "stderr",
     "output_type": "stream",
     "text": [
      "WARNING: You are using pip version 21.1.1; however, version 21.1.3 is available.\n",
      "You should consider upgrading via the 'c:\\users\\sarah sazdar\\appdata\\local\\programs\\python\\python39\\python.exe -m pip install --upgrade pip' command.\n"
     ]
    }
   ],
   "source": [
    "!pip install pandas \n",
    "!pip install matplotlib \n",
    "!pip install scipy\n",
    "!pip install seaborn"
   ]
  },
  {
   "cell_type": "code",
   "execution_count": 2,
   "id": "2f74c78a-70e3-4c30-8656-ed944064335b",
   "metadata": {},
   "outputs": [],
   "source": [
    "import pandas as pd\n",
    "import numpy as np\n",
    "import matplotlib.pyplot as pyplot"
   ]
  },
  {
   "cell_type": "code",
   "execution_count": 3,
   "id": "af17c20b-cbcb-41de-ba4e-39263d196400",
   "metadata": {},
   "outputs": [],
   "source": [
    " concerns_top = 'covid_concern_toplines.csv'"
   ]
  },
  {
   "cell_type": "code",
   "execution_count": 4,
   "id": "7c125a1a-d0d5-49b9-97d5-c76164b857ad",
   "metadata": {},
   "outputs": [],
   "source": [
    "concerns_top_df = pd.read_csv(concerns_top)"
   ]
  },
  {
   "cell_type": "code",
   "execution_count": null,
   "id": "b90828b6-5302-4e88-b3b2-b235b460062d",
   "metadata": {},
   "outputs": [],
   "source": [
    "# HOW CONCERNED ARE AMERICANS ABOUT THE CORONAVIRUS? \n",
    "## (http://projects.fivethirtyeight.com/coronavirus-polls/)"
   ]
  },
  {
   "cell_type": "code",
   "execution_count": null,
   "id": "a659ac26-feb0-4d10-a19e-e621e2ab24b7",
   "metadata": {},
   "outputs": [],
   "source": []
  },
  {
   "cell_type": "code",
   "execution_count": null,
   "id": "198cd1bc-9a30-469c-8767-427431ab7d0a",
   "metadata": {},
   "outputs": [],
   "source": []
  },
  {
   "cell_type": "code",
   "execution_count": 5,
   "id": "9b3cc4d2-270c-4b62-a389-4a58ba8d48b8",
   "metadata": {},
   "outputs": [],
   "source": [
    "# Covid concerns toplines is the daily average of concern polls asking\n",
    "## Americans how concerned they feel about aspects of the outbreak\n",
    "### such as infection and economic impact"
   ]
  },
  {
   "cell_type": "code",
   "execution_count": 6,
   "id": "17b1014d-1ff0-4c1e-bbf8-63f25d15db7d",
   "metadata": {},
   "outputs": [
    {
     "name": "stdout",
     "output_type": "stream",
     "text": [
      "<class 'pandas.core.frame.DataFrame'>\n",
      "RangeIndex: 1050 entries, 0 to 1049\n",
      "Data columns (total 8 columns):\n",
      " #   Column               Non-Null Count  Dtype  \n",
      "---  ------               --------------  -----  \n",
      " 0   subject              1050 non-null   object \n",
      " 1   modeldate            1050 non-null   object \n",
      " 2   party                1050 non-null   object \n",
      " 3   very_estimate        1050 non-null   float64\n",
      " 4   somewhat_estimate    1050 non-null   float64\n",
      " 5   not_very_estimate    1050 non-null   float64\n",
      " 6   not_at_all_estimate  1050 non-null   float64\n",
      " 7   timestamp            1050 non-null   object \n",
      "dtypes: float64(4), object(4)\n",
      "memory usage: 65.8+ KB\n"
     ]
    },
    {
     "data": {
      "text/plain": [
       "(array([477.,  14.,  17.,  32., 140., 203.,  39., 110.,   1.,  17.]),\n",
       " array([ 2.3664609 ,  4.22947881,  6.09249672,  7.95551463,  9.81853254,\n",
       "        11.68155045, 13.54456836, 15.40758627, 17.27060418, 19.13362209,\n",
       "        20.99664   ]),\n",
       " <BarContainer object of 10 artists>)"
      ]
     },
     "execution_count": 6,
     "metadata": {},
     "output_type": "execute_result"
    },
    {
     "data": {
      "image/png": "[encoded data removed]",
      "text/plain": [
       "<Figure size 432x288 with 1 Axes>"
      ]
     },
     "metadata": {
      "needs_background": "light"
     },
     "output_type": "display_data"
    }
   ],
   "source": [
    "concerns_top_df.info()\n",
    "concerns_top_df.shape\n",
    "concerns_top_df.describe()\n",
    "##blue = very concerned\n",
    "pyplot.hist(concerns_top_df['very_estimate'])\n",
    "##green = somewhat concerned\n",
    "pyplot.hist(concerns_top_df['somewhat_estimate'])\n",
    "##orange = not all all concerned\n",
    "pyplot.hist(concerns_top_df['not_at_all_estimate'])\n"
   ]
  },
  {
   "cell_type": "code",
   "execution_count": 7,
   "id": "e854e81b-da0d-42b6-a10b-c1ce830ab9e7",
   "metadata": {},
   "outputs": [],
   "source": [
    "# On a daily average more American's are concerned about Biden's COVID-19 plan"
   ]
  },
  {
   "cell_type": "code",
   "execution_count": 8,
   "id": "20a61058-12e2-427b-884a-021645b0203b",
   "metadata": {},
   "outputs": [],
   "source": [
    "## based on the describe std, this relation is not statistically significant"
   ]
  },
  {
   "cell_type": "code",
   "execution_count": 9,
   "id": "08a8ae0b-9120-4b94-8269-1dd5c386a1ea",
   "metadata": {},
   "outputs": [
    {
     "data": {
      "text/html": [
       "<div>\n",
       "<style scoped>\n",
       "    .dataframe tbody tr th:only-of-type {\n",
       "        vertical-align: middle;\n",
       "    }\n",
       "\n",
       "    .dataframe tbody tr th {\n",
       "        vertical-align: top;\n",
       "    }\n",
       "\n",
       "    .dataframe thead th {\n",
       "        text-align: right;\n",
       "    }\n",
       "</style>\n",
       "<table border=\"1\" class=\"dataframe\">\n",
       "  <thead>\n",
       "    <tr style=\"text-align: right;\">\n",
       "      <th></th>\n",
       "      <th>very_estimate</th>\n",
       "      <th>somewhat_estimate</th>\n",
       "      <th>not_very_estimate</th>\n",
       "      <th>not_at_all_estimate</th>\n",
       "    </tr>\n",
       "  </thead>\n",
       "  <tbody>\n",
       "    <tr>\n",
       "      <th>count</th>\n",
       "      <td>1050.000000</td>\n",
       "      <td>1050.000000</td>\n",
       "      <td>1050.000000</td>\n",
       "      <td>1050.000000</td>\n",
       "    </tr>\n",
       "    <tr>\n",
       "      <th>mean</th>\n",
       "      <td>40.982844</td>\n",
       "      <td>33.178059</td>\n",
       "      <td>15.814440</td>\n",
       "      <td>8.485308</td>\n",
       "    </tr>\n",
       "    <tr>\n",
       "      <th>std</th>\n",
       "      <td>12.033479</td>\n",
       "      <td>2.311040</td>\n",
       "      <td>6.833884</td>\n",
       "      <td>5.096208</td>\n",
       "    </tr>\n",
       "    <tr>\n",
       "      <th>min</th>\n",
       "      <td>11.761800</td>\n",
       "      <td>23.517890</td>\n",
       "      <td>6.820952</td>\n",
       "      <td>2.366461</td>\n",
       "    </tr>\n",
       "    <tr>\n",
       "      <th>25%</th>\n",
       "      <td>31.461513</td>\n",
       "      <td>31.842479</td>\n",
       "      <td>9.422134</td>\n",
       "      <td>3.532655</td>\n",
       "    </tr>\n",
       "    <tr>\n",
       "      <th>50%</th>\n",
       "      <td>37.137390</td>\n",
       "      <td>33.215846</td>\n",
       "      <td>16.709418</td>\n",
       "      <td>8.954315</td>\n",
       "    </tr>\n",
       "    <tr>\n",
       "      <th>75%</th>\n",
       "      <td>53.001178</td>\n",
       "      <td>34.847609</td>\n",
       "      <td>19.967036</td>\n",
       "      <td>12.268706</td>\n",
       "    </tr>\n",
       "    <tr>\n",
       "      <th>max</th>\n",
       "      <td>63.370770</td>\n",
       "      <td>38.928102</td>\n",
       "      <td>39.080250</td>\n",
       "      <td>20.996640</td>\n",
       "    </tr>\n",
       "  </tbody>\n",
       "</table>\n",
       "</div>"
      ],
      "text/plain": [
       "       very_estimate  somewhat_estimate  not_very_estimate  \\\n",
       "count    1050.000000        1050.000000        1050.000000   \n",
       "mean       40.982844          33.178059          15.814440   \n",
       "std        12.033479           2.311040           6.833884   \n",
       "min        11.761800          23.517890           6.820952   \n",
       "25%        31.461513          31.842479           9.422134   \n",
       "50%        37.137390          33.215846          16.709418   \n",
       "75%        53.001178          34.847609          19.967036   \n",
       "max        63.370770          38.928102          39.080250   \n",
       "\n",
       "       not_at_all_estimate  \n",
       "count          1050.000000  \n",
       "mean              8.485308  \n",
       "std               5.096208  \n",
       "min               2.366461  \n",
       "25%               3.532655  \n",
       "50%               8.954315  \n",
       "75%              12.268706  \n",
       "max              20.996640  "
      ]
     },
     "execution_count": 9,
     "metadata": {},
     "output_type": "execute_result"
    }
   ],
   "source": [
    "concerns_top_df.describe()"
   ]
  },
  {
   "cell_type": "code",
   "execution_count": null,
   "id": "685eed74-59e4-456c-a658-6acd6429fcc4",
   "metadata": {},
   "outputs": [],
   "source": []
  },
  {
   "cell_type": "code",
   "execution_count": null,
   "id": "33f2dbb7-3330-437e-a675-70d8b61ac80a",
   "metadata": {},
   "outputs": [],
   "source": []
  },
  {
   "cell_type": "code",
   "execution_count": 10,
   "id": "619c8a8f-d5ca-4a59-946c-165a6d159e30",
   "metadata": {},
   "outputs": [],
   "source": [
    "# Covid approval topline is the daily avaerage poll of approval of how\n",
    "## Biden is handling COVID-19 or his approach"
   ]
  },
  {
   "cell_type": "code",
   "execution_count": 11,
   "id": "5c369db8-ea60-4621-bfbb-04c88216c5ca",
   "metadata": {},
   "outputs": [],
   "source": [
    "approval_top = 'covid_approval_toplines.csv'"
   ]
  },
  {
   "cell_type": "code",
   "execution_count": 12,
   "id": "716bfaf6-48e4-4f96-a89b-9f2fa06c8101",
   "metadata": {},
   "outputs": [],
   "source": [
    "approval_top_df = pd.read_csv(approval_top)"
   ]
  },
  {
   "cell_type": "code",
   "execution_count": 13,
   "id": "197eaed4-34bd-4768-a762-a17d0a8368e4",
   "metadata": {},
   "outputs": [
    {
     "name": "stdout",
     "output_type": "stream",
     "text": [
      "<class 'pandas.core.frame.DataFrame'>\n",
      "RangeIndex: 2820 entries, 0 to 2819\n",
      "Data columns (total 6 columns):\n",
      " #   Column               Non-Null Count  Dtype  \n",
      "---  ------               --------------  -----  \n",
      " 0   subject              2820 non-null   object \n",
      " 1   modeldate            2820 non-null   object \n",
      " 2   party                2820 non-null   object \n",
      " 3   approve_estimate     2820 non-null   float64\n",
      " 4   disapprove_estimate  2820 non-null   float64\n",
      " 5   timestamp            2820 non-null   object \n",
      "dtypes: float64(2), object(4)\n",
      "memory usage: 132.3+ KB\n"
     ]
    },
    {
     "data": {
      "text/plain": [
       "(array([219., 485.,  51., 343.,  59., 239., 895.,  27.,  58., 444.]),\n",
       " array([ 3.       , 11.9263963, 20.8527926, 29.7791889, 38.7055852,\n",
       "        47.6319815, 56.5583778, 65.4847741, 74.4111704, 83.3375667,\n",
       "        92.263963 ]),\n",
       " <BarContainer object of 10 artists>)"
      ]
     },
     "execution_count": 13,
     "metadata": {},
     "output_type": "execute_result"
    },
    {
     "data": {
      "image/png": "[encoded data removed]",
      "text/plain": [
       "<Figure size 432x288 with 1 Axes>"
      ]
     },
     "metadata": {
      "needs_background": "light"
     },
     "output_type": "display_data"
    }
   ],
   "source": [
    "approval_top_df.info()\n",
    "approval_top_df.shape\n",
    "approval_top_df.describe()\n",
    "##blue = very concerned\n",
    "pyplot.hist(approval_top_df['approve_estimate'])\n",
    "##orange = somewhat concerned\n",
    "pyplot.hist(approval_top_df['disapprove_estimate'])"
   ]
  },
  {
   "cell_type": "code",
   "execution_count": 14,
   "id": "d273d031-b540-4028-8ce1-beab5d7841f6",
   "metadata": {},
   "outputs": [],
   "source": [
    "# On a daily average, poll results show that more American's disapprove \n",
    "## of Biden's approach to COVID-19 \n",
    "### however based on describe (the std is insignificant to make a correlation\n",
    "#### between approval/disapproval ratiings of Biden's COVID-19 apprach and \n",
    "##### the sample of the American population)"
   ]
  },
  {
   "cell_type": "code",
   "execution_count": 15,
   "id": "695dc00c-f473-44c2-8fd1-98899e396cf8",
   "metadata": {},
   "outputs": [
    {
     "data": {
      "text/html": [
       "<div>\n",
       "<style scoped>\n",
       "    .dataframe tbody tr th:only-of-type {\n",
       "        vertical-align: middle;\n",
       "    }\n",
       "\n",
       "    .dataframe tbody tr th {\n",
       "        vertical-align: top;\n",
       "    }\n",
       "\n",
       "    .dataframe thead th {\n",
       "        text-align: right;\n",
       "    }\n",
       "</style>\n",
       "<table border=\"1\" class=\"dataframe\">\n",
       "  <thead>\n",
       "    <tr style=\"text-align: right;\">\n",
       "      <th></th>\n",
       "      <th>approve_estimate</th>\n",
       "      <th>disapprove_estimate</th>\n",
       "    </tr>\n",
       "  </thead>\n",
       "  <tbody>\n",
       "    <tr>\n",
       "      <th>count</th>\n",
       "      <td>2820.000000</td>\n",
       "      <td>2820.000000</td>\n",
       "    </tr>\n",
       "    <tr>\n",
       "      <th>mean</th>\n",
       "      <td>46.533698</td>\n",
       "      <td>48.386309</td>\n",
       "    </tr>\n",
       "    <tr>\n",
       "      <th>std</th>\n",
       "      <td>25.458197</td>\n",
       "      <td>25.679766</td>\n",
       "    </tr>\n",
       "    <tr>\n",
       "      <th>min</th>\n",
       "      <td>6.265794</td>\n",
       "      <td>3.000000</td>\n",
       "    </tr>\n",
       "    <tr>\n",
       "      <th>25%</th>\n",
       "      <td>32.842920</td>\n",
       "      <td>23.846170</td>\n",
       "    </tr>\n",
       "    <tr>\n",
       "      <th>50%</th>\n",
       "      <td>39.442070</td>\n",
       "      <td>56.699902</td>\n",
       "    </tr>\n",
       "    <tr>\n",
       "      <th>75%</th>\n",
       "      <td>69.000000</td>\n",
       "      <td>61.307291</td>\n",
       "    </tr>\n",
       "    <tr>\n",
       "      <th>max</th>\n",
       "      <td>92.650739</td>\n",
       "      <td>92.263963</td>\n",
       "    </tr>\n",
       "  </tbody>\n",
       "</table>\n",
       "</div>"
      ],
      "text/plain": [
       "       approve_estimate  disapprove_estimate\n",
       "count       2820.000000          2820.000000\n",
       "mean          46.533698            48.386309\n",
       "std           25.458197            25.679766\n",
       "min            6.265794             3.000000\n",
       "25%           32.842920            23.846170\n",
       "50%           39.442070            56.699902\n",
       "75%           69.000000            61.307291\n",
       "max           92.650739            92.263963"
      ]
     },
     "execution_count": 15,
     "metadata": {},
     "output_type": "execute_result"
    }
   ],
   "source": [
    "approval_top_df.describe()"
   ]
  },
  {
   "cell_type": "code",
   "execution_count": null,
   "id": "40a42294-0084-4648-8680-98d91bfac283",
   "metadata": {},
   "outputs": [],
   "source": []
  },
  {
   "cell_type": "code",
   "execution_count": null,
   "id": "24eb3869-3ed4-4642-8b0f-df2efcbd3b10",
   "metadata": {},
   "outputs": [],
   "source": []
  },
  {
   "cell_type": "code",
   "execution_count": 16,
   "id": "4e49b073-47d1-43b9-9353-9de1741b0217",
   "metadata": {},
   "outputs": [],
   "source": [
    "# Covid Approval Polls contains polls asking \n",
    "## Americans if they approve of how Biden is handling COVID-19\n"
   ]
  },
  {
   "cell_type": "code",
   "execution_count": 17,
   "id": "73b5b160-a539-4cc9-8d07-b39e9a4d51e5",
   "metadata": {},
   "outputs": [],
   "source": [
    " approval = 'covid_approval_polls.csv'"
   ]
  },
  {
   "cell_type": "code",
   "execution_count": 18,
   "id": "5c9dc878-5b6a-463b-bed9-81ecee0cf996",
   "metadata": {},
   "outputs": [],
   "source": [
    "approval_df = pd.read_csv(approval)"
   ]
  },
  {
   "cell_type": "code",
   "execution_count": 19,
   "id": "b9d16a10-e0ad-4261-8219-2f1dab05f476",
   "metadata": {},
   "outputs": [
    {
     "name": "stdout",
     "output_type": "stream",
     "text": [
      "<class 'pandas.core.frame.DataFrame'>\n",
      "RangeIndex: 2696 entries, 0 to 2695\n",
      "Data columns (total 13 columns):\n",
      " #   Column       Non-Null Count  Dtype  \n",
      "---  ------       --------------  -----  \n",
      " 0   start_date   2696 non-null   object \n",
      " 1   end_date     2696 non-null   object \n",
      " 2   pollster     2696 non-null   object \n",
      " 3   sponsor      1367 non-null   object \n",
      " 4   sample_size  2674 non-null   float64\n",
      " 5   population   2696 non-null   object \n",
      " 6   party        2696 non-null   object \n",
      " 7   subject      2696 non-null   object \n",
      " 8   tracking     2689 non-null   object \n",
      " 9   text         2695 non-null   object \n",
      " 10  approve      2693 non-null   float64\n",
      " 11  disapprove   2681 non-null   float64\n",
      " 12  url          2696 non-null   object \n",
      "dtypes: float64(3), object(10)\n",
      "memory usage: 273.9+ KB\n"
     ]
    },
    {
     "data": {
      "text/html": [
       "<div>\n",
       "<style scoped>\n",
       "    .dataframe tbody tr th:only-of-type {\n",
       "        vertical-align: middle;\n",
       "    }\n",
       "\n",
       "    .dataframe tbody tr th {\n",
       "        vertical-align: top;\n",
       "    }\n",
       "\n",
       "    .dataframe thead th {\n",
       "        text-align: right;\n",
       "    }\n",
       "</style>\n",
       "<table border=\"1\" class=\"dataframe\">\n",
       "  <thead>\n",
       "    <tr style=\"text-align: right;\">\n",
       "      <th></th>\n",
       "      <th>sample_size</th>\n",
       "      <th>approve</th>\n",
       "      <th>disapprove</th>\n",
       "    </tr>\n",
       "  </thead>\n",
       "  <tbody>\n",
       "    <tr>\n",
       "      <th>count</th>\n",
       "      <td>2674.000000</td>\n",
       "      <td>2693.000000</td>\n",
       "      <td>2681.000000</td>\n",
       "    </tr>\n",
       "    <tr>\n",
       "      <th>mean</th>\n",
       "      <td>2448.836520</td>\n",
       "      <td>46.144471</td>\n",
       "      <td>48.783271</td>\n",
       "    </tr>\n",
       "    <tr>\n",
       "      <th>std</th>\n",
       "      <td>12089.807632</td>\n",
       "      <td>25.148494</td>\n",
       "      <td>24.933086</td>\n",
       "    </tr>\n",
       "    <tr>\n",
       "      <th>min</th>\n",
       "      <td>55.000000</td>\n",
       "      <td>1.000000</td>\n",
       "      <td>1.000000</td>\n",
       "    </tr>\n",
       "    <tr>\n",
       "      <th>25%</th>\n",
       "      <td>390.000000</td>\n",
       "      <td>30.000000</td>\n",
       "      <td>29.000000</td>\n",
       "    </tr>\n",
       "    <tr>\n",
       "      <th>50%</th>\n",
       "      <td>643.916000</td>\n",
       "      <td>42.000000</td>\n",
       "      <td>53.000000</td>\n",
       "    </tr>\n",
       "    <tr>\n",
       "      <th>75%</th>\n",
       "      <td>1257.500000</td>\n",
       "      <td>66.000000</td>\n",
       "      <td>63.000000</td>\n",
       "    </tr>\n",
       "    <tr>\n",
       "      <th>max</th>\n",
       "      <td>325970.000000</td>\n",
       "      <td>98.000000</td>\n",
       "      <td>98.000000</td>\n",
       "    </tr>\n",
       "  </tbody>\n",
       "</table>\n",
       "</div>"
      ],
      "text/plain": [
       "         sample_size      approve   disapprove\n",
       "count    2674.000000  2693.000000  2681.000000\n",
       "mean     2448.836520    46.144471    48.783271\n",
       "std     12089.807632    25.148494    24.933086\n",
       "min        55.000000     1.000000     1.000000\n",
       "25%       390.000000    30.000000    29.000000\n",
       "50%       643.916000    42.000000    53.000000\n",
       "75%      1257.500000    66.000000    63.000000\n",
       "max    325970.000000    98.000000    98.000000"
      ]
     },
     "execution_count": 19,
     "metadata": {},
     "output_type": "execute_result"
    }
   ],
   "source": [
    "approval_df.info()\n",
    "approval_df.shape\n",
    "approval_df.describe()"
   ]
  },
  {
   "cell_type": "code",
   "execution_count": 20,
   "id": "264c4c44-780c-4bb2-97c6-ac858acbbd13",
   "metadata": {},
   "outputs": [
    {
     "data": {
      "text/plain": [
       "(array([175., 381., 149., 191., 236., 753., 253., 119., 268., 156.]),\n",
       " array([ 1. , 10.7, 20.4, 30.1, 39.8, 49.5, 59.2, 68.9, 78.6, 88.3, 98. ]),\n",
       " <BarContainer object of 10 artists>)"
      ]
     },
     "execution_count": 20,
     "metadata": {},
     "output_type": "execute_result"
    },
    {
     "data": {
      "image/png": "[encoded data removed]",
      "text/plain": [
       "<Figure size 432x288 with 1 Axes>"
      ]
     },
     "metadata": {
      "needs_background": "light"
     },
     "output_type": "display_data"
    }
   ],
   "source": [
    "##blue = percentage approval of Biden's COVID-19 approach\n",
    "pyplot.hist(approval_df['approve'])\n",
    "##orange = percentage disapprove of Biden's COVID-19 approach \n",
    "pyplot.hist(approval_df['disapprove'])"
   ]
  },
  {
   "cell_type": "code",
   "execution_count": null,
   "id": "75dead3a-fcfb-43ca-a243-f1d0a5343d23",
   "metadata": {},
   "outputs": [],
   "source": []
  },
  {
   "cell_type": "code",
   "execution_count": null,
   "id": "50b888ac-481f-443c-b343-8c9239074527",
   "metadata": {},
   "outputs": [],
   "source": []
  },
  {
   "cell_type": "code",
   "execution_count": 21,
   "id": "e83274a9-9c0a-4887-8fa7-034770d2cf7f",
   "metadata": {},
   "outputs": [],
   "source": [
    "# Covid Concern Polls ask Americans how concerned \n",
    "## they feel about aspects of the outbreak such as\n",
    "### infection and economic impact\n"
   ]
  },
  {
   "cell_type": "code",
   "execution_count": 22,
   "id": "c9d6e86c-9fa0-4be9-b980-ac6047f158db",
   "metadata": {},
   "outputs": [],
   "source": [
    "concerns_poll = 'covid_concern_polls.csv'"
   ]
  },
  {
   "cell_type": "code",
   "execution_count": 23,
   "id": "59e42800-de26-4417-8721-c504036dfd05",
   "metadata": {},
   "outputs": [],
   "source": [
    "concerns_df = pd.read_csv(concerns_poll)"
   ]
  },
  {
   "cell_type": "code",
   "execution_count": 24,
   "id": "ec69122f-9fd7-4ed3-a194-9e8d9da1bcdb",
   "metadata": {},
   "outputs": [
    {
     "name": "stdout",
     "output_type": "stream",
     "text": [
      "<class 'pandas.core.frame.DataFrame'>\n",
      "RangeIndex: 678 entries, 0 to 677\n",
      "Data columns (total 15 columns):\n",
      " #   Column       Non-Null Count  Dtype  \n",
      "---  ------       --------------  -----  \n",
      " 0   start_date   678 non-null    object \n",
      " 1   end_date     678 non-null    object \n",
      " 2   pollster     678 non-null    object \n",
      " 3   sponsor      270 non-null    object \n",
      " 4   sample_size  678 non-null    int64  \n",
      " 5   population   678 non-null    object \n",
      " 6   party        678 non-null    object \n",
      " 7   subject      678 non-null    object \n",
      " 8   tracking     678 non-null    bool   \n",
      " 9   text         678 non-null    object \n",
      " 10  very         678 non-null    float64\n",
      " 11  somewhat     677 non-null    float64\n",
      " 12  not_very     678 non-null    float64\n",
      " 13  not_at_all   671 non-null    float64\n",
      " 14  url          678 non-null    object \n",
      "dtypes: bool(1), float64(4), int64(1), object(9)\n",
      "memory usage: 74.9+ KB\n"
     ]
    },
    {
     "data": {
      "text/html": [
       "<div>\n",
       "<style scoped>\n",
       "    .dataframe tbody tr th:only-of-type {\n",
       "        vertical-align: middle;\n",
       "    }\n",
       "\n",
       "    .dataframe tbody tr th {\n",
       "        vertical-align: top;\n",
       "    }\n",
       "\n",
       "    .dataframe thead th {\n",
       "        text-align: right;\n",
       "    }\n",
       "</style>\n",
       "<table border=\"1\" class=\"dataframe\">\n",
       "  <thead>\n",
       "    <tr style=\"text-align: right;\">\n",
       "      <th></th>\n",
       "      <th>sample_size</th>\n",
       "      <th>very</th>\n",
       "      <th>somewhat</th>\n",
       "      <th>not_very</th>\n",
       "      <th>not_at_all</th>\n",
       "    </tr>\n",
       "  </thead>\n",
       "  <tbody>\n",
       "    <tr>\n",
       "      <th>count</th>\n",
       "      <td>678.000000</td>\n",
       "      <td>678.000000</td>\n",
       "      <td>677.000000</td>\n",
       "      <td>678.000000</td>\n",
       "      <td>671.000000</td>\n",
       "    </tr>\n",
       "    <tr>\n",
       "      <th>mean</th>\n",
       "      <td>2803.066372</td>\n",
       "      <td>37.555870</td>\n",
       "      <td>34.729734</td>\n",
       "      <td>17.457979</td>\n",
       "      <td>8.801446</td>\n",
       "    </tr>\n",
       "    <tr>\n",
       "      <th>std</th>\n",
       "      <td>8489.793782</td>\n",
       "      <td>13.971585</td>\n",
       "      <td>5.100249</td>\n",
       "      <td>7.883279</td>\n",
       "      <td>5.054352</td>\n",
       "    </tr>\n",
       "    <tr>\n",
       "      <th>min</th>\n",
       "      <td>502.000000</td>\n",
       "      <td>8.000000</td>\n",
       "      <td>19.000000</td>\n",
       "      <td>2.000000</td>\n",
       "      <td>1.000000</td>\n",
       "    </tr>\n",
       "    <tr>\n",
       "      <th>25%</th>\n",
       "      <td>1002.000000</td>\n",
       "      <td>27.000000</td>\n",
       "      <td>32.000000</td>\n",
       "      <td>11.000000</td>\n",
       "      <td>4.000000</td>\n",
       "    </tr>\n",
       "    <tr>\n",
       "      <th>50%</th>\n",
       "      <td>1031.000000</td>\n",
       "      <td>35.000000</td>\n",
       "      <td>35.000000</td>\n",
       "      <td>17.490000</td>\n",
       "      <td>8.320000</td>\n",
       "    </tr>\n",
       "    <tr>\n",
       "      <th>75%</th>\n",
       "      <td>1959.250000</td>\n",
       "      <td>47.000000</td>\n",
       "      <td>38.000000</td>\n",
       "      <td>23.000000</td>\n",
       "      <td>12.100000</td>\n",
       "    </tr>\n",
       "    <tr>\n",
       "      <th>max</th>\n",
       "      <td>91214.000000</td>\n",
       "      <td>73.000000</td>\n",
       "      <td>48.000000</td>\n",
       "      <td>43.000000</td>\n",
       "      <td>29.000000</td>\n",
       "    </tr>\n",
       "  </tbody>\n",
       "</table>\n",
       "</div>"
      ],
      "text/plain": [
       "        sample_size        very    somewhat    not_very  not_at_all\n",
       "count    678.000000  678.000000  677.000000  678.000000  671.000000\n",
       "mean    2803.066372   37.555870   34.729734   17.457979    8.801446\n",
       "std     8489.793782   13.971585    5.100249    7.883279    5.054352\n",
       "min      502.000000    8.000000   19.000000    2.000000    1.000000\n",
       "25%     1002.000000   27.000000   32.000000   11.000000    4.000000\n",
       "50%     1031.000000   35.000000   35.000000   17.490000    8.320000\n",
       "75%     1959.250000   47.000000   38.000000   23.000000   12.100000\n",
       "max    91214.000000   73.000000   48.000000   43.000000   29.000000"
      ]
     },
     "execution_count": 24,
     "metadata": {},
     "output_type": "execute_result"
    }
   ],
   "source": [
    "concerns_df.info()\n",
    "concerns_df.shape\n",
    "concerns_df.describe()"
   ]
  },
  {
   "cell_type": "code",
   "execution_count": 25,
   "id": "0875e7f1-903c-4105-8121-f8decdd8e1ae",
   "metadata": {},
   "outputs": [],
   "source": [
    "#this sample size is the smallest out of all tables available to analyze\n",
    "## based on the describe and histogram, there is no strong correlation \n",
    "### between degree of American concern and COVID-19 Impact"
   ]
  },
  {
   "cell_type": "code",
   "execution_count": 26,
   "id": "546ef208-ad0e-4237-a68a-6addf141cb29",
   "metadata": {},
   "outputs": [
    {
     "data": {
      "text/plain": [
       "(array([122., 147., 107., 127.,  57.,  81.,  24.,   4.,   1.,   1.]),\n",
       " array([ 1. ,  3.8,  6.6,  9.4, 12.2, 15. , 17.8, 20.6, 23.4, 26.2, 29. ]),\n",
       " <BarContainer object of 10 artists>)"
      ]
     },
     "execution_count": 26,
     "metadata": {},
     "output_type": "execute_result"
    },
    {
     "data": {
      "image/png": "[encoded data removed]",
      "text/plain": [
       "<Figure size 432x288 with 1 Axes>"
      ]
     },
     "metadata": {
      "needs_background": "light"
     },
     "output_type": "display_data"
    }
   ],
   "source": [
    "##blue = very concerned\n",
    "pyplot.hist(concerns_df['very'])\n",
    "##green = somewhat concerned\n",
    "pyplot.hist(concerns_df['somewhat'])\n",
    "##orange = not all all concerned\n",
    "pyplot.hist(concerns_df['not_at_all'])"
   ]
  },
  {
   "cell_type": "code",
   "execution_count": null,
   "id": "b3327e34-f321-438a-b07d-51e8481f0837",
   "metadata": {},
   "outputs": [],
   "source": []
  },
  {
   "cell_type": "code",
   "execution_count": null,
   "id": "820f60d8-bb0e-4a1f-8eae-494cb113f4f4",
   "metadata": {},
   "outputs": [],
   "source": []
  },
  {
   "cell_type": "code",
   "execution_count": 27,
   "id": "9c580ddf-b9ab-407d-acb8-8117a9eee350",
   "metadata": {},
   "outputs": [],
   "source": [
    "## Adjusted American approval poll results of Biden's covid approach"
   ]
  },
  {
   "cell_type": "code",
   "execution_count": 35,
   "id": "ca0b273e-f737-428f-bde2-aa6f1f1965c8",
   "metadata": {},
   "outputs": [],
   "source": [
    "adj_approval = 'covid_approval_polls_adjusted.csv'"
   ]
  },
  {
   "cell_type": "code",
   "execution_count": 36,
   "id": "6d5f3419-9453-44fa-984b-b60a60821b83",
   "metadata": {},
   "outputs": [],
   "source": [
    "adj_approval_df = pd.read_csv(adj_approval)"
   ]
  },
  {
   "cell_type": "code",
   "execution_count": 37,
   "id": "b19dbe3b-d009-4a33-8cd7-9ffdc0efedd0",
   "metadata": {},
   "outputs": [
    {
     "name": "stdout",
     "output_type": "stream",
     "text": [
      "<class 'pandas.core.frame.DataFrame'>\n",
      "RangeIndex: 2603 entries, 0 to 2602\n",
      "Data columns (total 19 columns):\n",
      " #   Column               Non-Null Count  Dtype  \n",
      "---  ------               --------------  -----  \n",
      " 0   subject              2603 non-null   object \n",
      " 1   modeldate            2603 non-null   object \n",
      " 2   party                2603 non-null   object \n",
      " 3   startdate            2603 non-null   object \n",
      " 4   enddate              2603 non-null   object \n",
      " 5   pollster             2603 non-null   object \n",
      " 6   grade                2278 non-null   object \n",
      " 7   samplesize           2603 non-null   float64\n",
      " 8   population           2603 non-null   object \n",
      " 9   weight               2603 non-null   float64\n",
      " 10  influence            2603 non-null   float64\n",
      " 11  multiversions        4 non-null      object \n",
      " 12  tracking             242 non-null    object \n",
      " 13  approve              2600 non-null   float64\n",
      " 14  disapprove           2588 non-null   float64\n",
      " 15  approve_adjusted     2600 non-null   float64\n",
      " 16  disapprove_adjusted  2588 non-null   float64\n",
      " 17  timestamp            2603 non-null   object \n",
      " 18  url                  2603 non-null   object \n",
      "dtypes: float64(7), object(12)\n",
      "memory usage: 386.5+ KB\n"
     ]
    }
   ],
   "source": [
    "adj_approval_df.info()"
   ]
  },
  {
   "cell_type": "code",
   "execution_count": 38,
   "id": "dc8492d9-4e45-410a-adfe-a07ebc928415",
   "metadata": {},
   "outputs": [
    {
     "data": {
      "text/plain": [
       "(2603, 19)"
      ]
     },
     "execution_count": 38,
     "metadata": {},
     "output_type": "execute_result"
    }
   ],
   "source": [
    "adj_approval_df.shape"
   ]
  },
  {
   "cell_type": "code",
   "execution_count": 39,
   "id": "c95892f3-1f0d-4f80-9f12-8c4d6c86b36b",
   "metadata": {},
   "outputs": [
    {
     "data": {
      "text/html": [
       "<div>\n",
       "<style scoped>\n",
       "    .dataframe tbody tr th:only-of-type {\n",
       "        vertical-align: middle;\n",
       "    }\n",
       "\n",
       "    .dataframe tbody tr th {\n",
       "        vertical-align: top;\n",
       "    }\n",
       "\n",
       "    .dataframe thead th {\n",
       "        text-align: right;\n",
       "    }\n",
       "</style>\n",
       "<table border=\"1\" class=\"dataframe\">\n",
       "  <thead>\n",
       "    <tr style=\"text-align: right;\">\n",
       "      <th></th>\n",
       "      <th>samplesize</th>\n",
       "      <th>weight</th>\n",
       "      <th>influence</th>\n",
       "      <th>approve</th>\n",
       "      <th>disapprove</th>\n",
       "      <th>approve_adjusted</th>\n",
       "      <th>disapprove_adjusted</th>\n",
       "    </tr>\n",
       "  </thead>\n",
       "  <tbody>\n",
       "    <tr>\n",
       "      <th>count</th>\n",
       "      <td>2603.000000</td>\n",
       "      <td>2603.000000</td>\n",
       "      <td>2603.000000</td>\n",
       "      <td>2600.000000</td>\n",
       "      <td>2588.000000</td>\n",
       "      <td>2600.000000</td>\n",
       "      <td>2588.000000</td>\n",
       "    </tr>\n",
       "    <tr>\n",
       "      <th>mean</th>\n",
       "      <td>2453.433993</td>\n",
       "      <td>0.565185</td>\n",
       "      <td>0.025322</td>\n",
       "      <td>46.305023</td>\n",
       "      <td>48.629811</td>\n",
       "      <td>46.495120</td>\n",
       "      <td>49.132098</td>\n",
       "    </tr>\n",
       "    <tr>\n",
       "      <th>std</th>\n",
       "      <td>12256.185548</td>\n",
       "      <td>0.427563</td>\n",
       "      <td>0.126477</td>\n",
       "      <td>25.260242</td>\n",
       "      <td>25.044377</td>\n",
       "      <td>25.328651</td>\n",
       "      <td>25.329918</td>\n",
       "    </tr>\n",
       "    <tr>\n",
       "      <th>min</th>\n",
       "      <td>36.776667</td>\n",
       "      <td>0.023552</td>\n",
       "      <td>0.000000</td>\n",
       "      <td>1.000000</td>\n",
       "      <td>1.000000</td>\n",
       "      <td>1.208881</td>\n",
       "      <td>1.646467</td>\n",
       "    </tr>\n",
       "    <tr>\n",
       "      <th>25%</th>\n",
       "      <td>363.000000</td>\n",
       "      <td>0.319242</td>\n",
       "      <td>0.000000</td>\n",
       "      <td>30.000000</td>\n",
       "      <td>28.000000</td>\n",
       "      <td>31.679430</td>\n",
       "      <td>28.662904</td>\n",
       "    </tr>\n",
       "    <tr>\n",
       "      <th>50%</th>\n",
       "      <td>603.060000</td>\n",
       "      <td>0.449539</td>\n",
       "      <td>0.000000</td>\n",
       "      <td>42.000000</td>\n",
       "      <td>53.000000</td>\n",
       "      <td>41.329691</td>\n",
       "      <td>53.966077</td>\n",
       "    </tr>\n",
       "    <tr>\n",
       "      <th>75%</th>\n",
       "      <td>1201.000000</td>\n",
       "      <td>0.706549</td>\n",
       "      <td>0.000000</td>\n",
       "      <td>67.000000</td>\n",
       "      <td>63.000000</td>\n",
       "      <td>64.778045</td>\n",
       "      <td>62.703879</td>\n",
       "    </tr>\n",
       "    <tr>\n",
       "      <th>max</th>\n",
       "      <td>325970.000000</td>\n",
       "      <td>4.757668</td>\n",
       "      <td>1.565643</td>\n",
       "      <td>98.000000</td>\n",
       "      <td>98.000000</td>\n",
       "      <td>96.155123</td>\n",
       "      <td>96.001500</td>\n",
       "    </tr>\n",
       "  </tbody>\n",
       "</table>\n",
       "</div>"
      ],
      "text/plain": [
       "          samplesize       weight    influence      approve   disapprove  \\\n",
       "count    2603.000000  2603.000000  2603.000000  2600.000000  2588.000000   \n",
       "mean     2453.433993     0.565185     0.025322    46.305023    48.629811   \n",
       "std     12256.185548     0.427563     0.126477    25.260242    25.044377   \n",
       "min        36.776667     0.023552     0.000000     1.000000     1.000000   \n",
       "25%       363.000000     0.319242     0.000000    30.000000    28.000000   \n",
       "50%       603.060000     0.449539     0.000000    42.000000    53.000000   \n",
       "75%      1201.000000     0.706549     0.000000    67.000000    63.000000   \n",
       "max    325970.000000     4.757668     1.565643    98.000000    98.000000   \n",
       "\n",
       "       approve_adjusted  disapprove_adjusted  \n",
       "count       2600.000000          2588.000000  \n",
       "mean          46.495120            49.132098  \n",
       "std           25.328651            25.329918  \n",
       "min            1.208881             1.646467  \n",
       "25%           31.679430            28.662904  \n",
       "50%           41.329691            53.966077  \n",
       "75%           64.778045            62.703879  \n",
       "max           96.155123            96.001500  "
      ]
     },
     "execution_count": 39,
     "metadata": {},
     "output_type": "execute_result"
    }
   ],
   "source": [
    "adj_approval_df.describe()"
   ]
  },
  {
   "cell_type": "code",
   "execution_count": 40,
   "id": "199db5c8-4d88-4544-86c7-2ea799e558fa",
   "metadata": {},
   "outputs": [
    {
     "data": {
      "text/plain": [
       "(array([186., 376., 106., 202., 162., 672., 356.,  80., 173., 275.]),\n",
       " array([ 1.6464666 , 11.08196994, 20.51747328, 29.95297662, 39.38847996,\n",
       "        48.8239833 , 58.25948664, 67.69498998, 77.13049332, 86.56599666,\n",
       "        96.0015    ]),\n",
       " <BarContainer object of 10 artists>)"
      ]
     },
     "execution_count": 40,
     "metadata": {},
     "output_type": "execute_result"
    },
    {
     "data": {
      "image/png": "[encoded data removed]",
      "text/plain": [
       "<Figure size 432x288 with 1 Axes>"
      ]
     },
     "metadata": {
      "needs_background": "light"
     },
     "output_type": "display_data"
    }
   ],
   "source": [
    "##blue = American approval of Biden's Covid plan\n",
    "pyplot.hist(adj_approval_df['approve_adjusted'])\n",
    "##orange = American disapproval of Biden's Covid plan\n",
    "pyplot.hist(adj_approval_df['disapprove_adjusted'])"
   ]
  },
  {
   "cell_type": "code",
   "execution_count": null,
   "id": "370a13e5-63fe-4fb9-9a02-4c93a3851ce5",
   "metadata": {},
   "outputs": [],
   "source": [
    "# Even after the poll results were adjusted by an averaging algorithm there\n",
    "## is no coorelation between American approval and Biden's Covid Approach"
   ]
  }
 ],
 "metadata": {
  "kernelspec": {
   "display_name": "Python 3",
   "language": "python",
   "name": "python3"
  },
  "language_info": {
   "codemirror_mode": {
    "name": "ipython",
    "version": 3
   },
   "file_extension": ".py",
   "mimetype": "text/x-python",
   "name": "python",
   "nbconvert_exporter": "python",
   "pygments_lexer": "ipython3",
   "version": "3.9.5"
  }
 },
 "nbformat": 4,
 "nbformat_minor": 5
}
